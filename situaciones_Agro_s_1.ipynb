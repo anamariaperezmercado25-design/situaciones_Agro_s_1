{
  "nbformat": 4,
  "nbformat_minor": 0,
  "metadata": {
    "colab": {
      "provenance": [],
      "authorship_tag": "ABX9TyNS98yiDkIoxtUhHquUpGer",
      "include_colab_link": true
    },
    "kernelspec": {
      "name": "python3",
      "display_name": "Python 3"
    },
    "language_info": {
      "name": "python"
    }
  },
  "cells": [
    {
      "cell_type": "markdown",
      "metadata": {
        "id": "view-in-github",
        "colab_type": "text"
      },
      "source": [
        "<a href=\"https://colab.research.google.com/github/anamariaperezmercado25-design/situaciones_Agro_s_1/blob/main/situaciones_Agro_s_1.ipynb\" target=\"_parent\"><img src=\"https://colab.research.google.com/assets/colab-badge.svg\" alt=\"Open In Colab\"/></a>"
      ]
    },
    {
      "cell_type": "markdown",
      "source": [
        "# situacion de ingenieria agricola\n",
        "\n",
        " Un agricultor necesita saber cuántos kilogramos\n",
        "de semilla de maíz debe comprar para sembrar un lote rectangular. Conoce la densidad de siembra\n",
        "recomendada (kg por hectárea) y las dimensiones del lote (largo y ancho en metros)\n",
        "\n"
      ],
      "metadata": {
        "id": "RYxgez14oBOA"
      }
    },
    {
      "cell_type": "code",
      "execution_count": 7,
      "metadata": {
        "colab": {
          "base_uri": "https://localhost:8080/",
          "height": 428
        },
        "id": "NFXoZTppkklF",
        "outputId": "f3d12a36-e36f-4c5e-aeec-9cb344ba4abc"
      },
      "outputs": [
        {
          "output_type": "stream",
          "name": "stdout",
          "text": [
            "bienvenido al programa de siembra de semillas\n"
          ]
        },
        {
          "output_type": "error",
          "ename": "KeyboardInterrupt",
          "evalue": "Interrupted by user",
          "traceback": [
            "\u001b[0;31m---------------------------------------------------------------------------\u001b[0m",
            "\u001b[0;31mKeyboardInterrupt\u001b[0m                         Traceback (most recent call last)",
            "\u001b[0;32m/tmp/ipython-input-475787851.py\u001b[0m in \u001b[0;36m<cell line: 0>\u001b[0;34m()\u001b[0m\n\u001b[1;32m      3\u001b[0m \u001b[0;34m\u001b[0m\u001b[0m\n\u001b[1;32m      4\u001b[0m \u001b[0;31m# 2. Pedir al usuario que ingrese el largo del lote en metros (input sin convertir con float).\u001b[0m\u001b[0;34m\u001b[0m\u001b[0;34m\u001b[0m\u001b[0m\n\u001b[0;32m----> 5\u001b[0;31m \u001b[0mlargo\u001b[0m \u001b[0;34m=\u001b[0m \u001b[0minput\u001b[0m\u001b[0;34m(\u001b[0m\u001b[0;34m\"ingrese el largo del lote en metros: \"\u001b[0m\u001b[0;34m)\u001b[0m\u001b[0;34m\u001b[0m\u001b[0;34m\u001b[0m\u001b[0m\n\u001b[0m\u001b[1;32m      6\u001b[0m \u001b[0;34m\u001b[0m\u001b[0m\n\u001b[1;32m      7\u001b[0m \u001b[0;31m# 3. Pedir el ancho del lote en metros (input NO USES FLOAT).\u001b[0m\u001b[0;34m\u001b[0m\u001b[0;34m\u001b[0m\u001b[0m\n",
            "\u001b[0;32m/usr/local/lib/python3.12/dist-packages/ipykernel/kernelbase.py\u001b[0m in \u001b[0;36mraw_input\u001b[0;34m(self, prompt)\u001b[0m\n\u001b[1;32m   1175\u001b[0m                 \u001b[0;34m\"raw_input was called, but this frontend does not support input requests.\"\u001b[0m\u001b[0;34m\u001b[0m\u001b[0;34m\u001b[0m\u001b[0m\n\u001b[1;32m   1176\u001b[0m             )\n\u001b[0;32m-> 1177\u001b[0;31m         return self._input_request(\n\u001b[0m\u001b[1;32m   1178\u001b[0m             \u001b[0mstr\u001b[0m\u001b[0;34m(\u001b[0m\u001b[0mprompt\u001b[0m\u001b[0;34m)\u001b[0m\u001b[0;34m,\u001b[0m\u001b[0;34m\u001b[0m\u001b[0;34m\u001b[0m\u001b[0m\n\u001b[1;32m   1179\u001b[0m             \u001b[0mself\u001b[0m\u001b[0;34m.\u001b[0m\u001b[0m_parent_ident\u001b[0m\u001b[0;34m[\u001b[0m\u001b[0;34m\"shell\"\u001b[0m\u001b[0;34m]\u001b[0m\u001b[0;34m,\u001b[0m\u001b[0;34m\u001b[0m\u001b[0;34m\u001b[0m\u001b[0m\n",
            "\u001b[0;32m/usr/local/lib/python3.12/dist-packages/ipykernel/kernelbase.py\u001b[0m in \u001b[0;36m_input_request\u001b[0;34m(self, prompt, ident, parent, password)\u001b[0m\n\u001b[1;32m   1217\u001b[0m             \u001b[0;32mexcept\u001b[0m \u001b[0mKeyboardInterrupt\u001b[0m\u001b[0;34m:\u001b[0m\u001b[0;34m\u001b[0m\u001b[0;34m\u001b[0m\u001b[0m\n\u001b[1;32m   1218\u001b[0m                 \u001b[0;31m# re-raise KeyboardInterrupt, to truncate traceback\u001b[0m\u001b[0;34m\u001b[0m\u001b[0;34m\u001b[0m\u001b[0m\n\u001b[0;32m-> 1219\u001b[0;31m                 \u001b[0;32mraise\u001b[0m \u001b[0mKeyboardInterrupt\u001b[0m\u001b[0;34m(\u001b[0m\u001b[0;34m\"Interrupted by user\"\u001b[0m\u001b[0;34m)\u001b[0m \u001b[0;32mfrom\u001b[0m \u001b[0;32mNone\u001b[0m\u001b[0;34m\u001b[0m\u001b[0;34m\u001b[0m\u001b[0m\n\u001b[0m\u001b[1;32m   1220\u001b[0m             \u001b[0;32mexcept\u001b[0m \u001b[0mException\u001b[0m\u001b[0;34m:\u001b[0m\u001b[0;34m\u001b[0m\u001b[0;34m\u001b[0m\u001b[0m\n\u001b[1;32m   1221\u001b[0m                 \u001b[0mself\u001b[0m\u001b[0;34m.\u001b[0m\u001b[0mlog\u001b[0m\u001b[0;34m.\u001b[0m\u001b[0mwarning\u001b[0m\u001b[0;34m(\u001b[0m\u001b[0;34m\"Invalid Message:\"\u001b[0m\u001b[0;34m,\u001b[0m \u001b[0mexc_info\u001b[0m\u001b[0;34m=\u001b[0m\u001b[0;32mTrue\u001b[0m\u001b[0;34m)\u001b[0m\u001b[0;34m\u001b[0m\u001b[0;34m\u001b[0m\u001b[0m\n",
            "\u001b[0;31mKeyboardInterrupt\u001b[0m: Interrupted by user"
          ]
        }
      ],
      "source": [
        "# 1. Saludar al usuario y explicar qué hace el programa\n",
        "print(\"bienvenido al programa de siembra de semillas\")\n",
        "\n",
        "# 2. Pedir al usuario que ingrese el largo del lote en metros (input sin convertir con float).\n",
        "largo = input(\"ingrese el largo del lote en metros: \")\n",
        "\n",
        "# 3. Pedir el ancho del lote en metros (input NO USES FLOAT).\n",
        "ancho = input(\"ingrese el ancho del lote en metros: \")\n",
        "# 4. Pedir la densidad de siembra en kg/hectárea (input)\n",
        "densidad = input(\"ingrese la densidad de siembra en kg/hectaria: \")\n",
        "\n",
        "# 5. Convertir las entradas de texto a números decimales (float)\n",
        "largo = float(largo)\n",
        "ancho = float(ancho)\n",
        "densidad = float(densidad)\n",
        "\n",
        "# 6. Calcular el área en metros cuadrados (largo * ancho).\n",
        "area = largo * ancho\n",
        "\n",
        "# 7. Calcular la cantidad de semillas a comprar (area * densidad).\n",
        "semillas = area * densidad\n",
        "\n",
        "# 8.  Mostrar el resultado final al usuario de forma clara (print).\n",
        "print(f\"la densidad de siembra recomendada es de {densidad} kg/hectaria\")\n",
        "print(f\"el largo del lote es de {largo} metros\")\n",
        "print(f\"el ancho del lote es de {ancho} metros\")"
      ]
    },
    {
      "cell_type": "code",
      "source": [
        "largo/10"
      ],
      "metadata": {
        "colab": {
          "base_uri": "https://localhost:8080/",
          "height": 147
        },
        "id": "HMPLYIjqu9lK",
        "outputId": "d4bd2a4b-3406-4eb6-ac27-ea39084b85fe"
      },
      "execution_count": 6,
      "outputs": [
        {
          "output_type": "error",
          "ename": "TypeError",
          "evalue": "unsupported operand type(s) for /: 'str' and 'int'",
          "traceback": [
            "\u001b[0;31m---------------------------------------------------------------------------\u001b[0m",
            "\u001b[0;31mTypeError\u001b[0m                                 Traceback (most recent call last)",
            "\u001b[0;32m/tmp/ipython-input-2708986134.py\u001b[0m in \u001b[0;36m<cell line: 0>\u001b[0;34m()\u001b[0m\n\u001b[0;32m----> 1\u001b[0;31m \u001b[0mlargo\u001b[0m\u001b[0;34m/\u001b[0m\u001b[0;36m10\u001b[0m\u001b[0;34m\u001b[0m\u001b[0;34m\u001b[0m\u001b[0m\n\u001b[0m",
            "\u001b[0;31mTypeError\u001b[0m: unsupported operand type(s) for /: 'str' and 'int'"
          ]
        }
      ]
    },
    {
      "cell_type": "markdown",
      "metadata": {
        "id": "eb4838df"
      },
      "source": [
        "Aquí tienes la explicación línea por línea del código proporcionado:"
      ]
    },
    {
      "cell_type": "code",
      "metadata": {
        "id": "0f9c2b0c"
      },
      "source": [
        "# 2. Pedir al usuario que ingrese el largo del lote en metros (input sin convertir con float).\n",
        "largo = input(\"ingrese el largo del lote en metros: \")"
      ],
      "execution_count": null,
      "outputs": []
    },
    {
      "cell_type": "code",
      "metadata": {
        "id": "21e4eb7f"
      },
      "source": [
        "# 3. Pedir el ancho del lote en metros (input NO USES FLOAT).\n",
        "ancho = input(\"ingrese el ancho del lote en metros: \")"
      ],
      "execution_count": null,
      "outputs": []
    },
    {
      "cell_type": "code",
      "metadata": {
        "id": "b57dca5c"
      },
      "source": [
        "# 4. Pedir la densidad de siembra en kg/hectárea (input)\n",
        "densidad = input(\"ingrese la densidad de siembra en kg/hectaria: \")"
      ],
      "execution_count": null,
      "outputs": []
    },
    {
      "cell_type": "code",
      "metadata": {
        "id": "77539a3f"
      },
      "source": [
        "# 5. Convertir las entradas de texto a números decimales (float)\n",
        "largo = float(largo)\n",
        "ancho = float(ancho)\n",
        "densidad = float(densidad)"
      ],
      "execution_count": null,
      "outputs": []
    },
    {
      "cell_type": "code",
      "metadata": {
        "id": "9d01b121"
      },
      "source": [
        "# 6. Calcular el área en metros cuadrados (largo * ancho).\n",
        "area = largo * ancho"
      ],
      "execution_count": null,
      "outputs": []
    },
    {
      "cell_type": "code",
      "metadata": {
        "id": "74e8c199"
      },
      "source": [
        "# 7. Calcular la cantidad de semillas a comprar (area * densidad).\n",
        "semillas = area * densidad"
      ],
      "execution_count": null,
      "outputs": []
    },
    {
      "cell_type": "code",
      "metadata": {
        "id": "94a737a5"
      },
      "source": [
        "# 8. Mostrar el resultado final al usuario de forma clara (print).\n",
        "print(f\"la densidad de siembra recomendada es de {densidad} kg/hectaria\")\n",
        "print(f\"el largo del lote es de {largo} metros\")\n",
        "print(f\"el ancho del lote es de {ancho} metros\")"
      ],
      "execution_count": null,
      "outputs": []
    },
    {
      "cell_type": "markdown",
      "source": [
        "# 2. Situación de Interés en Ingeniería Agroindustria\n",
        "\n",
        ": En una planta de procesamiento de mango,\n",
        "se quiere calcular el rendimiento de un lote de fruta. Se necesita un programa simple que tome el\n",
        "peso inicial de los mangos antes de pelarlos y deshuesarlos, y el peso final de la pulpa obtenida, para\n",
        "expresar el rendimiento como un porcentaje."
      ],
      "metadata": {
        "id": "CTJ2BUGF1dXS"
      }
    },
    {
      "cell_type": "code",
      "source": [
        "# 1.  Explicar el propósito de la calculadora.\n",
        "print(\"bienvenido a la calculadora de rendimiento de mangos\")\n",
        "\n",
        "# 2.  Pedir el peso inicial del lote de mangos en kg (input).\n",
        "peso_inicial = input(\"ingrese el peso inicial del lote de mangos en kg: \")\n",
        "\n",
        "# 3.  Pedir el peso final de la pulpa de la fruta en kg (input).\n",
        "\n",
        "# 4.  Convertir ambos pesos a números decimales (float).\n",
        "peso_inicial = float(peso_inicial)\n",
        "\n",
        "# 5.  Calcular el rendimiento usando la fórmula: (peso_final / peso_inicial) * 100\n",
        "rendimiento = (peso_final / peso_inicial) * 100\n",
        "\n",
        "# 6.  Mostrar el resultado al usuario (print).\n",
        "print(f\"el rendimiento del lote de mangos es de {rendimiento}%\")\n",
        "\n",
        "# 7.  Mostrar el resultado del rendimiento, formateado como porcentaje.\n",
        "print(f\"el rendimiento del lote de mangos es de {rendimiento:.2f}%\")"
      ],
      "metadata": {
        "id": "LzBWMeW719jS"
      },
      "execution_count": null,
      "outputs": []
    },
    {
      "cell_type": "markdown",
      "metadata": {
        "id": "43ec34b8"
      },
      "source": [
        "Aquí tienes la explicación línea por línea del código proporcionado:\n",
        "\n",
        "*   `print(\"bienvenido al programa de siembra de semillas\")`: Esta línea imprime un mensaje de bienvenida para el usuario.\n",
        "*   `largo = input(\"ingrese el largo del lote en metros: \")`: Esta línea pide al usuario que ingrese el largo del lote en metros y almacena la entrada como texto en la variable `largo`.\n",
        "*   `ancho = input(\"ingrese el ancho del lote en metros: \")`: Similar a la anterior, pide el ancho del lote y lo almacena como texto en la variable `ancho`.\n",
        "*   `densidad = input(\"ingrese la densidad de siembra en kg/hectaria: \")`: Pide la densidad de siembra y la almacena como texto en la variable `densidad`.\n",
        "*   `largo = float(largo)`: Convierte el texto almacenado en `largo` a un número decimal (float).\n",
        "*   `ancho = float(ancho)`: Convierte el texto almacenado en `ancho` a un número decimal (float).\n",
        "*   `densidad = float(densidad)`: Convierte el texto almacenado en `densidad` a un número decimal (float).\n",
        "*   `area = largo * ancho`: Calcula el área del lote multiplicando el largo por el ancho.\n",
        "*   `semillas = area * densidad`: Calcula la cantidad de semillas necesarias multiplicando el área por la densidad de siembra. **Sin embargo, es importante notar que esta fórmula asume que la densidad de siembra está en kg/m² y no en kg/hectárea como se indica en el input. Para que el cálculo sea correcto con kg/hectárea, el área calculada en metros cuadrados debería convertirse a hectáreas primero (dividiendo por 10000).**\n",
        "*   `print(f\"la densidad de siembra recomendada es de {densidad} kg/hectaria\")`: Muestra la densidad de siembra ingresada por el usuario.\n",
        "*   `print(f\"el largo del lote es de {largo} metros\")`: Muestra el largo del lote ingresado por el usuario.\n",
        "*   `print(f\"el ancho del lote es de {ancho} metros\")`: Muestra el ancho del lote ingresado por el usuario.\n",
        "*   `print(f\"la cantidad de semillas a comprar es de {semillas} kg\")`: Muestra la cantidad calculada de semillas a comprar (aunque el cálculo actual puede no ser correcto si la densidad está en kg/hectárea)."
      ]
    }
  ]
}